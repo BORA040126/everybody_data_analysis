{
 "cells": [
  {
   "cell_type": "code",
   "execution_count": null,
   "metadata": {},
   "outputs": [],
   "source": [
    "import csv\n",
    "f=open(\"seouldegree.csv\",'r',encoding=\"cp949\")\n",
    "data=csv.reader(f,delimiter=',')\n",
    "print(data)\n",
    "for row in data:\n",
    "    print(row)\n",
    "f.close()"
   ]
  }
 ],
 "metadata": {
  "language_info": {
   "name": "python"
  },
  "orig_nbformat": 4
 },
 "nbformat": 4,
 "nbformat_minor": 2
}
